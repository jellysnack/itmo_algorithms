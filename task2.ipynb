{
 "cells": [
  {
   "cell_type": "code",
   "execution_count": 1,
   "metadata": {},
   "outputs": [],
   "source": [
    "import math\n",
    "import matplotlib.pyplot as plt\n",
    "import numpy as np\n",
    "from scipy import optimize "
   ]
  },
  {
   "cell_type": "code",
   "execution_count": 2,
   "metadata": {},
   "outputs": [],
   "source": [
    "eps = 0.001\n",
    "\n",
    "f_calc = 0\n",
    "\n",
    "def func1(x):\n",
    "    global f_calc\n",
    "    f_calc += 1\n",
    "    return x ** 3\n",
    "\n",
    "def func2(x):\n",
    "    global f_calc\n",
    "    f_calc += 1\n",
    "    return abs(x - 0.2)\n",
    "\n",
    "def func3(x):\n",
    "    global f_calc\n",
    "    f_calc += 1\n",
    "    return x * math.sin(1 / x)"
   ]
  },
  {
   "cell_type": "markdown",
   "metadata": {},
   "source": [
    "# Part 1"
   ]
  },
  {
   "cell_type": "code",
   "execution_count": 3,
   "metadata": {},
   "outputs": [],
   "source": [
    "def exhaustive_search(f, a, b, eps=0.001):\n",
    "    n = math.ceil((b - a) / eps)\n",
    "    x_star = f_star = float(\"inf\")\n",
    "    for k in range(n + 1):\n",
    "        x = a + k * (b - a) / n\n",
    "        f_x = f(x)\n",
    "        if f_x < f_star:\n",
    "            x_star, f_star = x, f_x\n",
    "    return x_star, n + 1"
   ]
  },
  {
   "cell_type": "code",
   "execution_count": 4,
   "metadata": {},
   "outputs": [],
   "source": [
    "def dichotomy(f, a, b, delta=0.0001, eps=0.001):\n",
    "    num_iterations = 0\n",
    "    while abs(a - b) > eps:\n",
    "        x_1, x_2 = (a + b - delta) / 2, (a + b + delta) / 2\n",
    "        if f(x_1) <= f(x_2):\n",
    "            a, b = a, x_2\n",
    "        else:\n",
    "            a, b = x_1, b\n",
    "        num_iterations += 1\n",
    "    x_star = (a + b) / 2\n",
    "    return x_star, num_iterations"
   ]
  },
  {
   "cell_type": "code",
   "execution_count": 5,
   "metadata": {},
   "outputs": [],
   "source": [
    "def golden_section_search(f, a, b, eps=0.001):\n",
    "    t = (3 - math.sqrt(5)) / 2\n",
    "    x_1 = a + t * (b - a)\n",
    "    x_2 = b - t * (b - a)\n",
    "    f_1, f_2 = f(x_1), f(x_2)\n",
    "    num_iterations = 0\n",
    "    while abs(a - b) > eps:\n",
    "        if f_1 <= f_2:\n",
    "            a, b, x_2, f_2 = a, x_2, x_1, f_1\n",
    "            x_1 = a + t * (b - a)\n",
    "            f_1 = f(x_1)\n",
    "        else:\n",
    "            a, b, x_1, f_1 = x_1, b, x_2, f_2\n",
    "            x_2 = b - t * (b - a)\n",
    "            f_2 = f(x_2)\n",
    "        num_iterations += 1\n",
    "    x_star = (a + b) / 2\n",
    "    return x_star, num_iterations"
   ]
  },
  {
   "cell_type": "markdown",
   "metadata": {},
   "source": [
    "## Exhaustive search method"
   ]
  },
  {
   "cell_type": "markdown",
   "metadata": {},
   "source": [
    "$f(x) = x^3, \\ x \\in [0, 1]$"
   ]
  },
  {
   "cell_type": "code",
   "execution_count": 6,
   "metadata": {},
   "outputs": [
    {
     "name": "stdout",
     "output_type": "stream",
     "text": [
      "Exhaustive search result:\n",
      "x = 0.0, f(x) = 0.0\n",
      "Number of iterations: 1001\n",
      "Number of f-calculations: 1001\n"
     ]
    }
   ],
   "source": [
    "f_calc = 0\n",
    "x_m, num_iters = exhaustive_search(func1, 0, 1)\n",
    "print(\"Exhaustive search result:\")\n",
    "print(f\"x = {x_m}, f(x) = {func1(x_m)}\")\n",
    "print(f\"Number of iterations: {num_iters}\")\n",
    "print(f\"Number of f-calculations: {f_calc - 1}\")"
   ]
  },
  {
   "cell_type": "markdown",
   "metadata": {},
   "source": [
    "$f(x) = |x - 0.2|, \\ x \\in [0, 1]$"
   ]
  },
  {
   "cell_type": "code",
   "execution_count": 7,
   "metadata": {},
   "outputs": [
    {
     "name": "stdout",
     "output_type": "stream",
     "text": [
      "Exhaustive search result:\n",
      "x = 0.2, f(x) = 0.0\n",
      "Number of iterations: 1001\n",
      "Number of f-calculations: 1001\n"
     ]
    }
   ],
   "source": [
    "f_calc = 0\n",
    "x_m, num_iters = exhaustive_search(func2, 0, 1)\n",
    "print(\"Exhaustive search result:\")\n",
    "print(f\"x = {x_m}, f(x) = {func2(x_m)}\")\n",
    "print(f\"Number of iterations: {num_iters}\")\n",
    "print(f\"Number of f-calculations: {f_calc - 1}\")"
   ]
  },
  {
   "cell_type": "markdown",
   "metadata": {},
   "source": [
    "$f(x) = x \\sin{\\frac{1}{x}}, \\ x \\in [0.01, 1]$"
   ]
  },
  {
   "cell_type": "code",
   "execution_count": 8,
   "metadata": {
    "scrolled": false
   },
   "outputs": [
    {
     "name": "stdout",
     "output_type": "stream",
     "text": [
      "Exhaustive search result:\n",
      "x = 0.223, f(x) = -0.21722461258083445\n",
      "Number of iterations: 991\n",
      "Number of f-calculations: 991\n"
     ]
    }
   ],
   "source": [
    "f_calc = 0\n",
    "x_m, num_iters = exhaustive_search(func3, 0.01, 1)\n",
    "print(\"Exhaustive search result:\")\n",
    "print(f\"x = {x_m}, f(x) = {func3(x_m)}\")\n",
    "print(f\"Number of iterations: {num_iters}\")\n",
    "print(f\"Number of f-calculations: {f_calc - 1}\")"
   ]
  },
  {
   "cell_type": "markdown",
   "metadata": {},
   "source": [
    "## Dichotomy method"
   ]
  },
  {
   "cell_type": "markdown",
   "metadata": {},
   "source": [
    "$f(x) = x^3, \\ x \\in [0, 1]$"
   ]
  },
  {
   "cell_type": "code",
   "execution_count": 9,
   "metadata": {},
   "outputs": [
    {
     "name": "stdout",
     "output_type": "stream",
     "text": [
      "Dichotomy method result:\n",
      "x = 0.00029411621093749997, f(x) = 2.5442330338744787e-11\n",
      "Number of iterations: 11\n",
      "Number of f-calculations: 22\n"
     ]
    }
   ],
   "source": [
    "f_calc = 0\n",
    "x_m, num_iters = dichotomy(func1, 0, 1)\n",
    "print(\"Dichotomy method result:\")\n",
    "print(f\"x = {x_m}, f(x) = {func1(x_m)}\")\n",
    "print(f\"Number of iterations: {num_iters}\")\n",
    "print(f\"Number of f-calculations: {f_calc - 1}\")"
   ]
  },
  {
   "cell_type": "markdown",
   "metadata": {},
   "source": [
    "$f(x) = |x - 0.2|, \\ x \\in [0, 1]$"
   ]
  },
  {
   "cell_type": "code",
   "execution_count": 10,
   "metadata": {},
   "outputs": [
    {
     "name": "stdout",
     "output_type": "stream",
     "text": [
      "Dichotomy method result:\n",
      "x = 0.19998117675781252, f(x) = 1.8823242187493427e-05\n",
      "Number of iterations: 11\n",
      "Number of f-calculations: 22\n"
     ]
    }
   ],
   "source": [
    "f_calc = 0\n",
    "x_m, num_iters = dichotomy(func2, 0, 1)\n",
    "print(\"Dichotomy method result:\")\n",
    "print(f\"x = {x_m}, f(x) = {func2(x_m)}\")\n",
    "print(f\"Number of iterations: {num_iters}\")\n",
    "print(f\"Number of f-calculations: {f_calc - 1}\")"
   ]
  },
  {
   "cell_type": "markdown",
   "metadata": {},
   "source": [
    "$f(x) = x \\sin{\\frac{1}{x}}, \\ x \\in [0.01, 1]$"
   ]
  },
  {
   "cell_type": "code",
   "execution_count": 11,
   "metadata": {
    "scrolled": true
   },
   "outputs": [
    {
     "name": "stdout",
     "output_type": "stream",
     "text": [
      "Dichotomy method result:\n",
      "x = 0.22248215332031251, f(x) = -0.21723343522421576\n",
      "Number of iterations: 11\n",
      "Number of f-calculations: 22\n"
     ]
    }
   ],
   "source": [
    "f_calc = 0\n",
    "x_m, num_iters = dichotomy(func3, 0.01, 1)\n",
    "print(\"Dichotomy method result:\")\n",
    "print(f\"x = {x_m}, f(x) = {func3(x_m)}\")\n",
    "print(f\"Number of iterations: {num_iters}\")\n",
    "print(f\"Number of f-calculations: {f_calc - 1}\")"
   ]
  },
  {
   "cell_type": "markdown",
   "metadata": {},
   "source": [
    "## Golden section method"
   ]
  },
  {
   "cell_type": "markdown",
   "metadata": {},
   "source": [
    "$f(x) = x^3, \\ x \\in [0, 1]$"
   ]
  },
  {
   "cell_type": "code",
   "execution_count": 12,
   "metadata": {},
   "outputs": [
    {
     "name": "stdout",
     "output_type": "stream",
     "text": [
      "Golden section method result:\n",
      "x = 0.000366568717928702, f(x) = 4.9256800857728296e-11\n",
      "Number of iterations: 15\n",
      "Number of f-calculations: 17\n"
     ]
    }
   ],
   "source": [
    "f_calc = 0\n",
    "x_m, num_iters = golden_section_search(func1, 0, 1)\n",
    "print(\"Golden section method result:\")\n",
    "print(f\"x = {x_m}, f(x) = {func1(x_m)}\")\n",
    "print(f\"Number of iterations: {num_iters}\")\n",
    "print(f\"Number of f-calculations: {f_calc - 1}\")"
   ]
  },
  {
   "cell_type": "markdown",
   "metadata": {},
   "source": [
    "$f(x) = |x - 0.2|, \\ x \\in [0, 1]$"
   ]
  },
  {
   "cell_type": "code",
   "execution_count": 13,
   "metadata": {},
   "outputs": [
    {
     "name": "stdout",
     "output_type": "stream",
     "text": [
      "Golden section method result:\n",
      "x = 0.2000733137435857, f(x) = 7.331374358568454e-05\n",
      "Number of iterations: 15\n",
      "Number of f-calculations: 17\n"
     ]
    }
   ],
   "source": [
    "f_calc = 0\n",
    "x_m, num_iters = golden_section_search(func2, 0, 1)\n",
    "print(\"Golden section method result:\")\n",
    "print(f\"x = {x_m}, f(x) = {func2(x_m)}\")\n",
    "print(f\"Number of iterations: {num_iters}\")\n",
    "print(f\"Number of f-calculations: {f_calc - 1}\")"
   ]
  },
  {
   "cell_type": "markdown",
   "metadata": {},
   "source": [
    "$f(x) = x \\sin{\\frac{1}{x}}, \\ x \\in [0.01, 1]$"
   ]
  },
  {
   "cell_type": "code",
   "execution_count": 14,
   "metadata": {
    "scrolled": true
   },
   "outputs": [
    {
     "name": "stdout",
     "output_type": "stream",
     "text": [
      "Golden section method result:\n",
      "x = 0.22271959361960325, f(x) = -0.21723232817753246\n",
      "Number of iterations: 15\n",
      "Number of f-calculations: 17\n"
     ]
    }
   ],
   "source": [
    "f_calc = 0\n",
    "x_m, num_iters = golden_section_search(func3, 0.01, 1)\n",
    "print(\"Golden section method result:\")\n",
    "print(f\"x = {x_m}, f(x) = {func3(x_m)}\")\n",
    "print(f\"Number of iterations: {num_iters}\")\n",
    "print(f\"Number of f-calculations: {f_calc - 1}\")"
   ]
  },
  {
   "cell_type": "markdown",
   "metadata": {},
   "source": [
    "# Part 2"
   ]
  },
  {
   "cell_type": "code",
   "execution_count": 15,
   "metadata": {},
   "outputs": [
    {
     "name": "stdout",
     "output_type": "stream",
     "text": [
      "alpha = 0.4591910887680559\n",
      "beta = 0.0379706926337019\n"
     ]
    }
   ],
   "source": [
    "alpha, beta = np.random.uniform(), np.random.uniform()\n",
    "print(f\"alpha = {alpha}\")\n",
    "print(f\"beta = {beta}\")"
   ]
  },
  {
   "cell_type": "code",
   "execution_count": 16,
   "metadata": {},
   "outputs": [],
   "source": [
    "n = 100\n",
    "xs = [k / n for k in range(n + 1)]\n",
    "ys = [alpha * x + beta + np.random.randn() for x in xs]"
   ]
  },
  {
   "cell_type": "code",
   "execution_count": 17,
   "metadata": {},
   "outputs": [],
   "source": [
    "def linear(x, a, b):\n",
    "    return a * x + b\n",
    "\n",
    "def rational(x, a, b):\n",
    "    return a / (1 + b * x)\n",
    "\n",
    "def D(x, f):\n",
    "    global f_calc\n",
    "    f_calc += 1\n",
    "    a, b = x\n",
    "    return sum((f(x, a, b) - y) ** 2 for x, y in zip(xs, ys))"
   ]
  },
  {
   "cell_type": "code",
   "execution_count": 18,
   "metadata": {},
   "outputs": [],
   "source": [
    "def exhaustive_search2d(f, rranges, args=(), eps=0.001):\n",
    "    (a_1, b_1), (a_2, b_2) = rranges\n",
    "    n_1 = math.ceil(math.sqrt(2) * (b_1 - a_1) / eps)\n",
    "    n_2 = math.ceil(math.sqrt(2) * (b_2 - a_2) / eps)\n",
    "    x_star = f_star = float(\"inf\")\n",
    "    for k_1 in range(n_1 + 1):\n",
    "        x_1 = a_1 + k_1 * (b_1 - a_1) / n_1\n",
    "        for k_2 in range(n_2 + 1):\n",
    "            x_2 = a_2 + k_2 * (b_2 - a_2) / n_2\n",
    "            f_x = f((x_1, x_2), *args)\n",
    "            if f_x < f_star:\n",
    "                x_star, f_star = (x_1, x_2), f_x\n",
    "    return x_star, (n_1 + 1) * (n_2 + 1)\n",
    "\n",
    "def gauss_method(x0, approximant):\n",
    "    a_prev = b_prev = float(\"inf\")\n",
    "    a, b = x0\n",
    "    num_iters = 0\n",
    "    n = math.ceil(1 / eps)\n",
    "    while math.sqrt((a - a_prev) ** 2 + (b - b_prev) ** 2) > eps:\n",
    "        a_prev, b_prev = a, b\n",
    "        \n",
    "        objective = lambda x: D((x, b), f=approximant)\n",
    "        a = float(dichotomy(objective, a=0, b=1)[0])\n",
    "        \n",
    "        objective = lambda x: D((a, x), f=approximant)\n",
    "        b = float(dichotomy(objective, a=0, b=1)[0])\n",
    "        \n",
    "        num_iters += 1\n",
    "    return (a, b), num_iters"
   ]
  },
  {
   "cell_type": "markdown",
   "metadata": {},
   "source": [
    "## Linear approximant"
   ]
  },
  {
   "cell_type": "code",
   "execution_count": 19,
   "metadata": {},
   "outputs": [
    {
     "name": "stdout",
     "output_type": "stream",
     "text": [
      "Exhaustive search result:\n",
      "0.06431095406360424 0.32932862190812723 \n",
      "\n",
      "Number of iterations: 2005056\n",
      "Number of f-calculations: 2005056\n"
     ]
    }
   ],
   "source": [
    "f_calc = 0\n",
    "\n",
    "rranges = ((0, 1), (0, 1))\n",
    "result, num_iterations = exhaustive_search2d(D, rranges, args=(linear,))\n",
    "a_brute, b_brute = map(float, result)\n",
    "\n",
    "print(\"Exhaustive search result:\")\n",
    "print(a_brute, b_brute, \"\\n\")\n",
    "print(f\"Number of iterations: {num_iterations}\")\n",
    "print(f\"Number of f-calculations: {f_calc}\")"
   ]
  },
  {
   "cell_type": "code",
   "execution_count": 33,
   "metadata": {},
   "outputs": [
    {
     "name": "stdout",
     "output_type": "stream",
     "text": [
      "Nelder-Mead method result:\n",
      "0.06216022958606489 0.33085297811776426 \n",
      "\n",
      "Number of iterations: 27\n",
      "Number of f-calculations: 53\n"
     ]
    }
   ],
   "source": [
    "f_calc = 0\n",
    "\n",
    "result = optimize.minimize(D, (0, 0), args=(linear,), method='Nelder-Mead', tol=eps)\n",
    "a_nelder_mead, b_nelder_mead = map(float, result.x)\n",
    "\n",
    "print(\"Nelder-Mead method result:\")\n",
    "print(a_nelder_mead, b_nelder_mead, \"\\n\")\n",
    "print(f\"Number of iterations: {result.nit}\")\n",
    "print(f\"Number of f-calculations: {f_calc}\")"
   ]
  },
  {
   "cell_type": "code",
   "execution_count": 21,
   "metadata": {},
   "outputs": [
    {
     "name": "stdout",
     "output_type": "stream",
     "text": [
      "Gauss method result:\n",
      "0.06718195800781249 0.32789807128906245 \n",
      "\n",
      "Number of iterations: 19\n",
      "Number of f-calculations: 836\n"
     ]
    }
   ],
   "source": [
    "f_calc = 0\n",
    "\n",
    "result, num_iters = gauss_method((0, 0), linear)\n",
    "a_gauss, b_gauss = map(float, result)\n",
    "\n",
    "print(\"Gauss method result:\")\n",
    "print(a_gauss, b_gauss, \"\\n\")\n",
    "print(f\"Number of iterations: {num_iters}\")\n",
    "print(f\"Number of f-calculations: {f_calc}\")"
   ]
  },
  {
   "cell_type": "code",
   "execution_count": 22,
   "metadata": {
    "scrolled": false
   },
   "outputs": [
    {
     "data": {
      "text/plain": [
       "<matplotlib.legend.Legend at 0x7fb21125ddc0>"
      ]
     },
     "execution_count": 22,
     "metadata": {},
     "output_type": "execute_result"
    },
    {
     "data": {
      "image/png": "[encoded data removed]",
      "text/plain": [
       "<Figure size 1152x648 with 1 Axes>"
      ]
     },
     "metadata": {
      "needs_background": "light"
     },
     "output_type": "display_data"
    }
   ],
   "source": [
    "plt.figure(figsize=(16, 9))\n",
    "plt.grid()\n",
    "plt.scatter(xs, ys, color=\"black\")\n",
    "plt.plot(xs, [alpha * x + beta for x in xs])\n",
    "plt.plot(xs, [linear(x, a_brute, b_brute) for x in xs])\n",
    "plt.plot(xs, [linear(x, a_nelder_mead, b_nelder_mead) for x in xs])\n",
    "plt.plot(xs, [linear(x, a_gauss, b_gauss) for x in xs])\n",
    "plt.legend([\"Generating line\", \"Exhaustive search method\", \"Nelder-Mead method\", \"Gauss method\", \"Generated data\"],\n",
    "           fontsize=14)"
   ]
  },
  {
   "cell_type": "markdown",
   "metadata": {},
   "source": [
    "## Rational approximant"
   ]
  },
  {
   "cell_type": "code",
   "execution_count": 23,
   "metadata": {},
   "outputs": [
    {
     "name": "stdout",
     "output_type": "stream",
     "text": [
      "Exhaustive search result:\n",
      "0.36113074204947 0.0 \n",
      "\n",
      "Number of iterations: 2005056\n",
      "Number of f-calculations: 2005056\n"
     ]
    }
   ],
   "source": [
    "f_calc = 0\n",
    "\n",
    "rranges = ((0, 1), (0, 1))\n",
    "result, num_iterations = exhaustive_search2d(D, rranges, args=(rational,))\n",
    "a_brute, b_brute = map(float, result)\n",
    "\n",
    "print(\"Exhaustive search result:\")\n",
    "print(a_brute, b_brute, \"\\n\")\n",
    "print(f\"Number of iterations: {num_iterations}\")\n",
    "print(f\"Number of f-calculations: {f_calc}\")"
   ]
  },
  {
   "cell_type": "code",
   "execution_count": 24,
   "metadata": {},
   "outputs": [
    {
     "name": "stdout",
     "output_type": "stream",
     "text": [
      "Nelder-Mead method result:\n",
      "0.34780285721798915 -0.07549709668431273 \n",
      "\n",
      "Number of iterations: 51\n",
      "Number of f-calculations: 99\n"
     ]
    }
   ],
   "source": [
    "f_calc = 0\n",
    "\n",
    "result = optimize.minimize(D, (0, 0), args=(rational,), method='Nelder-Mead', tol=eps)\n",
    "a_nelder_mead, b_nelder_mead = map(float, result.x)\n",
    "\n",
    "print(\"Nelder-Mead method result:\")\n",
    "print(a_nelder_mead, b_nelder_mead, \"\\n\")\n",
    "print(f\"Number of iterations: {result.nit}\")\n",
    "print(f\"Number of f-calculations: {f_calc}\")"
   ]
  },
  {
   "cell_type": "code",
   "execution_count": 25,
   "metadata": {},
   "outputs": [
    {
     "name": "stdout",
     "output_type": "stream",
     "text": [
      "Gauss method result:\n",
      "0.36158610839843747 0.00029411621093749997 \n",
      "\n",
      "Number of iterations: 2\n",
      "Number of f-calculations: 88\n"
     ]
    }
   ],
   "source": [
    "f_calc = 0\n",
    "\n",
    "result, num_iters = gauss_method((0, 0), rational)\n",
    "a_gauss, b_gauss = map(float, result)\n",
    "\n",
    "print(\"Gauss method result:\")\n",
    "print(a_gauss, b_gauss, \"\\n\")\n",
    "print(f\"Number of iterations: {num_iters}\")\n",
    "print(f\"Number of f-calculations: {f_calc}\")"
   ]
  },
  {
   "cell_type": "code",
   "execution_count": 26,
   "metadata": {
    "scrolled": false
   },
   "outputs": [
    {
     "data": {
      "text/plain": [
       "<matplotlib.legend.Legend at 0x7fb2112ef310>"
      ]
     },
     "execution_count": 26,
     "metadata": {},
     "output_type": "execute_result"
    },
    {
     "data": {
      "image/png": "[encoded data removed]",
      "text/plain": [
       "<Figure size 1152x648 with 1 Axes>"
      ]
     },
     "metadata": {
      "needs_background": "light"
     },
     "output_type": "display_data"
    }
   ],
   "source": [
    "plt.figure(figsize=(16, 9))\n",
    "plt.grid()\n",
    "plt.scatter(xs, ys, color=\"black\")\n",
    "plt.plot(xs, [alpha * x + beta for x in xs])\n",
    "plt.plot(xs, [rational(x, a_brute, b_brute) for x in xs])\n",
    "plt.plot(xs, [rational(x, a_nelder_mead, b_nelder_mead) for x in xs])\n",
    "plt.plot(xs, [rational(x, a_gauss, b_gauss) for x in xs])\n",
    "plt.legend([\"Generating line\", \"Exhaustive search method\", \"Nelder-Mead method\", \"Gauss method\", \"Generated data\"],\n",
    "           fontsize=14)"
   ]
  },
  {
   "cell_type": "code",
   "execution_count": null,
   "metadata": {},
   "outputs": [],
   "source": []
  }
 ],
 "metadata": {
  "kernelspec": {
   "display_name": "Python 3",
   "language": "python",
   "name": "python3"
  },
  "language_info": {
   "codemirror_mode": {
    "name": "ipython",
    "version": 3
   },
   "file_extension": ".py",
   "mimetype": "text/x-python",
   "name": "python",
   "nbconvert_exporter": "python",
   "pygments_lexer": "ipython3",
   "version": "3.8.3"
  }
 },
 "nbformat": 4,
 "nbformat_minor": 4
}
